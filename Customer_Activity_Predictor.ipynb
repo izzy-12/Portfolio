{
  "nbformat": 4,
  "nbformat_minor": 0,
  "metadata": {
    "colab": {
      "provenance": [],
      "include_colab_link": true
    },
    "kernelspec": {
      "name": "python3",
      "display_name": "Python 3"
    },
    "language_info": {
      "name": "python"
    }
  },
  "cells": [
    {
      "cell_type": "markdown",
      "metadata": {
        "id": "view-in-github",
        "colab_type": "text"
      },
      "source": [
        "<a href=\"https://colab.research.google.com/github/izzy-12/Portfolio/blob/main/Customer_Activity_Predictor.ipynb\" target=\"_parent\"><img src=\"https://colab.research.google.com/assets/colab-badge.svg\" alt=\"Open In Colab\"/></a>"
      ]
    },
    {
      "cell_type": "code",
      "execution_count": null,
      "metadata": {
        "id": "X_hr1ouGAuXv"
      },
      "outputs": [],
      "source": [
        "import pandas as pd\n",
        "import numpy as np"
      ]
    },
    {
      "cell_type": "code",
      "source": [
        "!pip install dmba"
      ],
      "metadata": {
        "colab": {
          "base_uri": "https://localhost:8080/"
        },
        "id": "vFxkvy50Bdzi",
        "outputId": "04c95b56-1afc-4f6a-b395-931a3688ad98"
      },
      "execution_count": null,
      "outputs": [
        {
          "output_type": "stream",
          "name": "stdout",
          "text": [
            "Collecting dmba\n",
            "  Downloading dmba-0.2.4-py3-none-any.whl (11.8 MB)\n",
            "\u001b[2K     \u001b[90m━━━━━━━━━━━━━━━━━━━━━━━━━━━━━━━━━━━━━━━━\u001b[0m \u001b[32m11.8/11.8 MB\u001b[0m \u001b[31m60.6 MB/s\u001b[0m eta \u001b[36m0:00:00\u001b[0m\n",
            "\u001b[?25hRequirement already satisfied: graphviz in /usr/local/lib/python3.10/dist-packages (from dmba) (0.20.1)\n",
            "Requirement already satisfied: matplotlib in /usr/local/lib/python3.10/dist-packages (from dmba) (3.7.1)\n",
            "Requirement already satisfied: numpy in /usr/local/lib/python3.10/dist-packages (from dmba) (1.23.5)\n",
            "Requirement already satisfied: pandas in /usr/local/lib/python3.10/dist-packages (from dmba) (1.5.3)\n",
            "Requirement already satisfied: scikit-learn in /usr/local/lib/python3.10/dist-packages (from dmba) (1.2.2)\n",
            "Requirement already satisfied: scipy in /usr/local/lib/python3.10/dist-packages (from dmba) (1.11.3)\n",
            "Requirement already satisfied: contourpy>=1.0.1 in /usr/local/lib/python3.10/dist-packages (from matplotlib->dmba) (1.1.1)\n",
            "Requirement already satisfied: cycler>=0.10 in /usr/local/lib/python3.10/dist-packages (from matplotlib->dmba) (0.12.0)\n",
            "Requirement already satisfied: fonttools>=4.22.0 in /usr/local/lib/python3.10/dist-packages (from matplotlib->dmba) (4.43.0)\n",
            "Requirement already satisfied: kiwisolver>=1.0.1 in /usr/local/lib/python3.10/dist-packages (from matplotlib->dmba) (1.4.5)\n",
            "Requirement already satisfied: packaging>=20.0 in /usr/local/lib/python3.10/dist-packages (from matplotlib->dmba) (23.2)\n",
            "Requirement already satisfied: pillow>=6.2.0 in /usr/local/lib/python3.10/dist-packages (from matplotlib->dmba) (9.4.0)\n",
            "Requirement already satisfied: pyparsing>=2.3.1 in /usr/local/lib/python3.10/dist-packages (from matplotlib->dmba) (3.1.1)\n",
            "Requirement already satisfied: python-dateutil>=2.7 in /usr/local/lib/python3.10/dist-packages (from matplotlib->dmba) (2.8.2)\n",
            "Requirement already satisfied: pytz>=2020.1 in /usr/local/lib/python3.10/dist-packages (from pandas->dmba) (2023.3.post1)\n",
            "Requirement already satisfied: joblib>=1.1.1 in /usr/local/lib/python3.10/dist-packages (from scikit-learn->dmba) (1.3.2)\n",
            "Requirement already satisfied: threadpoolctl>=2.0.0 in /usr/local/lib/python3.10/dist-packages (from scikit-learn->dmba) (3.2.0)\n",
            "Requirement already satisfied: six>=1.5 in /usr/local/lib/python3.10/dist-packages (from python-dateutil>=2.7->matplotlib->dmba) (1.16.0)\n",
            "Installing collected packages: dmba\n",
            "Successfully installed dmba-0.2.4\n"
          ]
        }
      ]
    },
    {
      "cell_type": "code",
      "source": [
        "from pathlib import Path\n",
        "\n",
        "from sklearn import preprocessing\n",
        "from sklearn import datasets\n",
        "\n",
        "from sklearn.model_selection import train_test_split, GridSearchCV\n",
        "\n",
        "from sklearn import metrics\n",
        "from sklearn.metrics import accuracy_score\n",
        "\n",
        "from sklearn.ensemble import RandomForestClassifier\n",
        "\n",
        "from sklearn.ensemble import RandomForestRegressor\n",
        "\n",
        "from sklearn.tree import DecisionTreeClassifier\n",
        "\n",
        "from sklearn.tree import DecisionTreeRegressor\n",
        "\n",
        "from sklearn.linear_model import LogisticRegression\n",
        "\n",
        "from sklearn.linear_model import LinearRegression\n",
        "\n",
        "import matplotlib.pylab as plt\n",
        "\n",
        "from dmba import classificationSummary, regressionSummary, plotDecisionTree"
      ],
      "metadata": {
        "id": "l-YZUfclDA7K",
        "outputId": "ee18ab2d-4e9d-4cad-f0d5-05e2c3f4fb2c",
        "colab": {
          "base_uri": "https://localhost:8080/"
        }
      },
      "execution_count": null,
      "outputs": [
        {
          "output_type": "stream",
          "name": "stdout",
          "text": [
            "Colab environment detected.\n"
          ]
        }
      ]
    },
    {
      "cell_type": "code",
      "source": [
        " %matplotlib inline"
      ],
      "metadata": {
        "id": "9sa3MGv_DHP-"
      },
      "execution_count": null,
      "outputs": []
    },
    {
      "cell_type": "markdown",
      "source": [
        "Step 0a.)"
      ],
      "metadata": {
        "id": "9idwPsis59TI"
      }
    },
    {
      "cell_type": "code",
      "source": [
        "modeling_df = pd.read_csv(\"https://raw.githubusercontent.com/ashish-cell/BADM-211-FA21/main/Data/f22_project.csv\")"
      ],
      "metadata": {
        "id": "SqJmBm_9BZ7O"
      },
      "execution_count": null,
      "outputs": []
    },
    {
      "cell_type": "markdown",
      "source": [
        "Step 0b.)"
      ],
      "metadata": {
        "id": "pGsnc6KqKL4v"
      }
    },
    {
      "cell_type": "code",
      "source": [
        "modeling_df.isnull().sum()"
      ],
      "metadata": {
        "colab": {
          "base_uri": "https://localhost:8080/"
        },
        "id": "EC1JHvKzDn0J",
        "outputId": "201d5e8d-61c2-4ee8-8e2b-c06a74573498"
      },
      "execution_count": null,
      "outputs": [
        {
          "output_type": "execute_result",
          "data": {
            "text/plain": [
              "id                         0\n",
              "education                  0\n",
              "marital_status             0\n",
              "income                    43\n",
              "age                        0\n",
              "kidhome                    0\n",
              "teenhome                   0\n",
              "recency                    0\n",
              "mntwines                   0\n",
              "mntfruits                  0\n",
              "mntmeatproducts            0\n",
              "mntfishproducts            0\n",
              "mntsweetproducts           0\n",
              "mntgoldprods               0\n",
              "numdealspurchases          0\n",
              "numwebpurchases            0\n",
              "numcatalogpurchases        0\n",
              "numstorepurchases          0\n",
              "numwebvisitsmonth          0\n",
              "complain                   0\n",
              "response                   0\n",
              "customer_since_in_days     0\n",
              "revenue                    0\n",
              "dtype: int64"
            ]
          },
          "metadata": {},
          "execution_count": 6
        }
      ]
    },
    {
      "cell_type": "code",
      "source": [
        "modeling_df.dropna(inplace = True)"
      ],
      "metadata": {
        "id": "8IVKfgMjDoL3"
      },
      "execution_count": null,
      "outputs": []
    },
    {
      "cell_type": "markdown",
      "source": [
        "Step 0c.)"
      ],
      "metadata": {
        "id": "Ija3TqRkKezi"
      }
    },
    {
      "cell_type": "code",
      "source": [
        "modeling_df = pd.get_dummies(modeling_df, drop_first= True)"
      ],
      "metadata": {
        "id": "lBk7ITHYDodq"
      },
      "execution_count": null,
      "outputs": []
    },
    {
      "cell_type": "markdown",
      "source": [
        "# **Step 1**"
      ],
      "metadata": {
        "id": "IlAdwVmXf_Zo"
      }
    },
    {
      "cell_type": "markdown",
      "source": [
        "Step 1a.)"
      ],
      "metadata": {
        "id": "5Fr5-aCXLAXt"
      }
    },
    {
      "cell_type": "code",
      "source": [
        "X = modeling_df.drop(columns = [\"response\", \"id\", \"revenue\"])\n",
        "\n",
        "y = modeling_df['response']"
      ],
      "metadata": {
        "id": "RmCpS-OfLGCZ"
      },
      "execution_count": null,
      "outputs": []
    },
    {
      "cell_type": "markdown",
      "source": [
        "Step 1b.)"
      ],
      "metadata": {
        "id": "oEeGDJMlLWNA"
      }
    },
    {
      "cell_type": "code",
      "source": [
        "train_X, test_X, train_y, test_y = train_test_split(X, y, test_size=.3, random_state = 1)"
      ],
      "metadata": {
        "id": "m4yRQyoKLGRK"
      },
      "execution_count": null,
      "outputs": []
    },
    {
      "cell_type": "markdown",
      "source": [
        "Step 1c.)"
      ],
      "metadata": {
        "id": "ShVNV3FQLtFA"
      }
    },
    {
      "cell_type": "code",
      "source": [
        "pred_model_log = LogisticRegression(random_state= 1, max_iter= 1000)\n",
        "pred_model_log = pred_model_log.fit(train_X, train_y)\n",
        "\n",
        "train_predictions_log = pred_model_log.predict(train_X)\n",
        "test_predictions_log = pred_model_log.predict(test_X)"
      ],
      "metadata": {
        "id": "yKU9QgeWMBJj",
        "colab": {
          "base_uri": "https://localhost:8080/"
        },
        "outputId": "4ed167a0-e4c0-4e1f-d8df-1dad73f73971"
      },
      "execution_count": null,
      "outputs": [
        {
          "output_type": "stream",
          "name": "stderr",
          "text": [
            "/usr/local/lib/python3.10/dist-packages/sklearn/linear_model/_logistic.py:458: ConvergenceWarning: lbfgs failed to converge (status=1):\n",
            "STOP: TOTAL NO. of ITERATIONS REACHED LIMIT.\n",
            "\n",
            "Increase the number of iterations (max_iter) or scale the data as shown in:\n",
            "    https://scikit-learn.org/stable/modules/preprocessing.html\n",
            "Please also refer to the documentation for alternative solver options:\n",
            "    https://scikit-learn.org/stable/modules/linear_model.html#logistic-regression\n",
            "  n_iter_i = _check_optimize_result(\n"
          ]
        }
      ]
    },
    {
      "cell_type": "code",
      "source": [
        "pred_model_tree = DecisionTreeClassifier(random_state= 1)\n",
        "pred_model_tree = pred_model_tree.fit(train_X, train_y)\n",
        "\n",
        "train_predictions_tree = pred_model_tree.predict(train_X)\n",
        "test_predictions_tree = pred_model_tree.predict(test_X)"
      ],
      "metadata": {
        "id": "oteqLWAdMGB_"
      },
      "execution_count": null,
      "outputs": []
    },
    {
      "cell_type": "code",
      "source": [
        "pred_model_forest = RandomForestClassifier(random_state = 1)\n",
        "pred_model_forest = pred_model_forest.fit(train_X, train_y)\n",
        "\n",
        "train_predictions_forest = pred_model_forest.predict(train_X)\n",
        "test_predictions_forest = pred_model_forest.predict(test_X)"
      ],
      "metadata": {
        "id": "5YXTxHctMGSD"
      },
      "execution_count": null,
      "outputs": []
    },
    {
      "cell_type": "markdown",
      "source": [
        "Step 1d.)"
      ],
      "metadata": {
        "id": "AkfdbvSshaX1"
      }
    },
    {
      "cell_type": "code",
      "source": [
        "classificationSummary(train_y, train_predictions_log)\n",
        "classificationSummary(test_y, test_predictions_log)"
      ],
      "metadata": {
        "colab": {
          "base_uri": "https://localhost:8080/"
        },
        "id": "6Q_qgKhFhZZQ",
        "outputId": "ccbeb3bd-a93e-4b76-a482-63495959ddcb"
      },
      "execution_count": null,
      "outputs": [
        {
          "output_type": "stream",
          "name": "stdout",
          "text": [
            "Confusion Matrix (Accuracy 0.7480)\n",
            "\n",
            "       Prediction\n",
            "Actual    0    1\n",
            "     0 1343  462\n",
            "     1  465 1409\n",
            "Confusion Matrix (Accuracy 0.7452)\n",
            "\n",
            "       Prediction\n",
            "Actual   0   1\n",
            "     0 585 203\n",
            "     1 199 591\n"
          ]
        }
      ]
    },
    {
      "cell_type": "code",
      "source": [
        "classificationSummary(train_y, train_predictions_tree)\n",
        "classificationSummary(test_y, test_predictions_tree)"
      ],
      "metadata": {
        "colab": {
          "base_uri": "https://localhost:8080/"
        },
        "id": "69Rkdc0y2NLZ",
        "outputId": "0e42e54e-40cc-4def-8145-bc77dc82a1bb"
      },
      "execution_count": null,
      "outputs": [
        {
          "output_type": "stream",
          "name": "stdout",
          "text": [
            "Confusion Matrix (Accuracy 0.9954)\n",
            "\n",
            "       Prediction\n",
            "Actual    0    1\n",
            "     0 1788   17\n",
            "     1    0 1874\n",
            "Confusion Matrix (Accuracy 0.9721)\n",
            "\n",
            "       Prediction\n",
            "Actual   0   1\n",
            "     0 744  44\n",
            "     1   0 790\n"
          ]
        }
      ]
    },
    {
      "cell_type": "code",
      "source": [
        "classificationSummary(train_y, train_predictions_forest)\n",
        "classificationSummary(test_y, test_predictions_forest)"
      ],
      "metadata": {
        "colab": {
          "base_uri": "https://localhost:8080/"
        },
        "id": "wvj2pzU72Nh7",
        "outputId": "0e66703e-62fc-4fa5-bd57-52ba57286b13"
      },
      "execution_count": null,
      "outputs": [
        {
          "output_type": "stream",
          "name": "stdout",
          "text": [
            "Confusion Matrix (Accuracy 0.9954)\n",
            "\n",
            "       Prediction\n",
            "Actual    0    1\n",
            "     0 1788   17\n",
            "     1    0 1874\n",
            "Confusion Matrix (Accuracy 0.9861)\n",
            "\n",
            "       Prediction\n",
            "Actual   0   1\n",
            "     0 766  22\n",
            "     1   0 790\n"
          ]
        }
      ]
    },
    {
      "cell_type": "markdown",
      "source": [
        "Step 1e.)"
      ],
      "metadata": {
        "id": "tbIUlD85eRYQ"
      }
    },
    {
      "cell_type": "markdown",
      "source": [
        "**RANDOM FOREST CLASSIFIER** is the model we chose because it has the most accurate test data"
      ],
      "metadata": {
        "id": "ym2QBCCceW5K"
      }
    },
    {
      "cell_type": "markdown",
      "source": [
        "Step 1f.)"
      ],
      "metadata": {
        "id": "_-y6cGYyekkV"
      }
    },
    {
      "cell_type": "code",
      "source": [
        "train_X['revenue'] = modeling_df['revenue'][train_X.index]"
      ],
      "metadata": {
        "id": "ZHPcPD7Sej82"
      },
      "execution_count": null,
      "outputs": []
    },
    {
      "cell_type": "markdown",
      "source": [
        "# **Step 2**"
      ],
      "metadata": {
        "id": "jOvHYNW7f2_I"
      }
    },
    {
      "cell_type": "markdown",
      "source": [
        "Step 2a.)"
      ],
      "metadata": {
        "id": "BCrmq-LNgE36"
      }
    },
    {
      "cell_type": "code",
      "source": [
        "modeling_df_2 = train_X[train_y ==1]"
      ],
      "metadata": {
        "id": "-947aN_6LmlQ"
      },
      "execution_count": null,
      "outputs": []
    },
    {
      "cell_type": "markdown",
      "source": [
        "Step 2b.)"
      ],
      "metadata": {
        "id": "UvHqGNEqLrdM"
      }
    },
    {
      "cell_type": "code",
      "source": [
        "X_2 = modeling_df_2.drop(columns = [\"revenue\"])\n",
        "\n",
        "y_2 = modeling_df_2['revenue']"
      ],
      "metadata": {
        "id": "gW6Et5xCL1Lm"
      },
      "execution_count": null,
      "outputs": []
    },
    {
      "cell_type": "markdown",
      "source": [
        "Step 2c.)"
      ],
      "metadata": {
        "id": "1GtPQ4_vOEUJ"
      }
    },
    {
      "cell_type": "code",
      "source": [
        "train_X_2, test_X_2, train_y_2, test_y_2 = train_test_split(X_2, y_2, test_size=.3, random_state= 1)"
      ],
      "metadata": {
        "id": "0SImjRo0Lsur"
      },
      "execution_count": null,
      "outputs": []
    },
    {
      "cell_type": "markdown",
      "source": [
        "Step 2d.)"
      ],
      "metadata": {
        "id": "D04nQh5cOGT7"
      }
    },
    {
      "cell_type": "code",
      "source": [
        "pred_model_log_2 = LinearRegression()\n",
        "pred_model_log_2 = pred_model_log_2.fit(train_X_2, train_y_2)\n",
        "\n",
        "train_predictions_log_2 = pred_model_log_2.predict(train_X_2)\n",
        "test_predictions_log_2 = pred_model_log_2.predict(test_X_2)"
      ],
      "metadata": {
        "id": "17Yzw6UsOSTH"
      },
      "execution_count": null,
      "outputs": []
    },
    {
      "cell_type": "code",
      "source": [
        "pred_model_tree_2 = DecisionTreeRegressor()\n",
        "pred_model_tree_2 = pred_model_tree_2.fit(train_X_2, train_y_2)\n",
        "\n",
        "train_predictions_tree_2 = pred_model_tree_2.predict(train_X_2)\n",
        "test_predictions_tree_2 = pred_model_tree_2.predict(test_X_2)"
      ],
      "metadata": {
        "id": "L15fd1pCPGU9"
      },
      "execution_count": null,
      "outputs": []
    },
    {
      "cell_type": "code",
      "source": [
        "pred_model_forest_2 = RandomForestRegressor()\n",
        "pred_model_forest_2 = pred_model_forest_2.fit(train_X_2, train_y_2)\n",
        "\n",
        "train_predictions_forest_2 = pred_model_forest_2.predict(train_X_2)\n",
        "test_predictions_forest_2 = pred_model_forest_2.predict(test_X_2)"
      ],
      "metadata": {
        "id": "4Qzyqao5PGjZ"
      },
      "execution_count": null,
      "outputs": []
    },
    {
      "cell_type": "markdown",
      "source": [
        "Step 2e.)"
      ],
      "metadata": {
        "id": "vo51M3j7QA8H"
      }
    },
    {
      "cell_type": "code",
      "source": [
        "regressionSummary(train_y_2, train_predictions_log_2)\n",
        "regressionSummary(test_y_2, test_predictions_log_2)"
      ],
      "metadata": {
        "colab": {
          "base_uri": "https://localhost:8080/"
        },
        "id": "OkR21H0BQAi1",
        "outputId": "2a407132-f650-4234-c8ed-da58b5e64ca4"
      },
      "execution_count": null,
      "outputs": [
        {
          "output_type": "stream",
          "name": "stdout",
          "text": [
            "\n",
            "Regression statistics\n",
            "\n",
            "                      Mean Error (ME) : -0.0000\n",
            "       Root Mean Squared Error (RMSE) : 20.1123\n",
            "            Mean Absolute Error (MAE) : 15.7771\n",
            "          Mean Percentage Error (MPE) : -3.0444\n",
            "Mean Absolute Percentage Error (MAPE) : 13.3181\n",
            "\n",
            "Regression statistics\n",
            "\n",
            "                      Mean Error (ME) : -0.4187\n",
            "       Root Mean Squared Error (RMSE) : 21.4230\n",
            "            Mean Absolute Error (MAE) : 16.7896\n",
            "          Mean Percentage Error (MPE) : -4.1632\n",
            "Mean Absolute Percentage Error (MAPE) : 14.8839\n"
          ]
        }
      ]
    },
    {
      "cell_type": "code",
      "source": [
        "regressionSummary(train_y_2, train_predictions_tree_2)\n",
        "regressionSummary(test_y_2, test_predictions_tree_2)"
      ],
      "metadata": {
        "colab": {
          "base_uri": "https://localhost:8080/"
        },
        "id": "VVqqZZk-QGkm",
        "outputId": "be28ff46-9eb3-4f22-dc85-e5bd6f359726"
      },
      "execution_count": null,
      "outputs": [
        {
          "output_type": "stream",
          "name": "stdout",
          "text": [
            "\n",
            "Regression statistics\n",
            "\n",
            "                      Mean Error (ME) : 0.0000\n",
            "       Root Mean Squared Error (RMSE) : 4.9763\n",
            "            Mean Absolute Error (MAE) : 4.1407\n",
            "          Mean Percentage Error (MPE) : -0.1657\n",
            "Mean Absolute Percentage Error (MAPE) : 3.2594\n",
            "\n",
            "Regression statistics\n",
            "\n",
            "                      Mean Error (ME) : 0.6003\n",
            "       Root Mean Squared Error (RMSE) : 6.9488\n",
            "            Mean Absolute Error (MAE) : 5.7446\n",
            "          Mean Percentage Error (MPE) : 0.0734\n",
            "Mean Absolute Percentage Error (MAPE) : 4.8073\n"
          ]
        }
      ]
    },
    {
      "cell_type": "code",
      "source": [
        "regressionSummary(train_y_2, train_predictions_forest_2)\n",
        "regressionSummary(test_y_2, test_predictions_forest_2)"
      ],
      "metadata": {
        "colab": {
          "base_uri": "https://localhost:8080/"
        },
        "id": "ZykLkS_XQGxM",
        "outputId": "5b229841-811d-41cd-9816-f3e2d8f31f78"
      },
      "execution_count": null,
      "outputs": [
        {
          "output_type": "stream",
          "name": "stdout",
          "text": [
            "\n",
            "Regression statistics\n",
            "\n",
            "                      Mean Error (ME) : -0.0013\n",
            "       Root Mean Squared Error (RMSE) : 4.9922\n",
            "            Mean Absolute Error (MAE) : 4.1668\n",
            "          Mean Percentage Error (MPE) : -0.1698\n",
            "Mean Absolute Percentage Error (MAPE) : 3.2782\n",
            "\n",
            "Regression statistics\n",
            "\n",
            "                      Mean Error (ME) : 0.5274\n",
            "       Root Mean Squared Error (RMSE) : 6.6976\n",
            "            Mean Absolute Error (MAE) : 5.5817\n",
            "          Mean Percentage Error (MPE) : 0.0164\n",
            "Mean Absolute Percentage Error (MAPE) : 4.6767\n"
          ]
        }
      ]
    },
    {
      "cell_type": "markdown",
      "source": [
        "**RANDOM FOREST REGRESSOR** has the lowest RMSE"
      ],
      "metadata": {
        "id": "zOdgO-8aQw-A"
      }
    },
    {
      "cell_type": "markdown",
      "source": [
        "# **Step 3**"
      ],
      "metadata": {
        "id": "84g0gaBZQ4c7"
      }
    },
    {
      "cell_type": "markdown",
      "source": [
        "Step 3a.)"
      ],
      "metadata": {
        "id": "AhZoIUPMVZnJ"
      }
    },
    {
      "cell_type": "code",
      "source": [
        "scoring_df = test_X.copy()"
      ],
      "metadata": {
        "id": "0DAhyDGgVXi3"
      },
      "execution_count": null,
      "outputs": []
    },
    {
      "cell_type": "markdown",
      "source": [
        "Step 3b.)"
      ],
      "metadata": {
        "id": "WKePk7AUWJMt"
      }
    },
    {
      "cell_type": "code",
      "source": [
        "#regressor\n",
        "predicted_revenue = pred_model_forest_2.predict(scoring_df)\n",
        "#classifier\n",
        "predicted_probability = pred_model_forest.predict(scoring_df)"
      ],
      "metadata": {
        "id": "Jqhy4t41WJWR"
      },
      "execution_count": null,
      "outputs": []
    },
    {
      "cell_type": "markdown",
      "source": [
        "Step 3c.)"
      ],
      "metadata": {
        "id": "X4Pc3dJJmo_Y"
      }
    },
    {
      "cell_type": "code",
      "source": [
        "scoring_df[\"predicted_probability\"] = predicted_probability\n",
        "scoring_df[\"predicted_revenue\"] = predicted_revenue"
      ],
      "metadata": {
        "id": "AS5PgbEtmrGC"
      },
      "execution_count": null,
      "outputs": []
    },
    {
      "cell_type": "markdown",
      "source": [
        "Step 3d.)"
      ],
      "metadata": {
        "id": "upIIz8zQoeFy"
      }
    },
    {
      "cell_type": "code",
      "source": [
        "scoring_df[\"expected_revenue\"] = scoring_df[\"predicted_probability\"] * scoring_df[\"predicted_revenue\"]"
      ],
      "metadata": {
        "id": "2GdXJrp8oeN2"
      },
      "execution_count": null,
      "outputs": []
    },
    {
      "cell_type": "markdown",
      "source": [
        "Step 3e.1)"
      ],
      "metadata": {
        "id": "e5G5iwBBrR35"
      }
    },
    {
      "cell_type": "code",
      "source": [
        "expected_revenue_wo_model = scoring_df.sample(frac = 0.2)[\"expected_revenue\"].mean()\n",
        "expected_revenue_wo_model"
      ],
      "metadata": {
        "colab": {
          "base_uri": "https://localhost:8080/"
        },
        "id": "KOei95KYrR92",
        "outputId": "b65711f4-a8d9-47cf-a43b-c348a5bdffdb"
      },
      "execution_count": null,
      "outputs": [
        {
          "output_type": "execute_result",
          "data": {
            "text/plain": [
              "72.76737158743771"
            ]
          },
          "metadata": {},
          "execution_count": 31
        }
      ]
    },
    {
      "cell_type": "markdown",
      "source": [
        "Step 3e.2)"
      ],
      "metadata": {
        "id": "HC_B5A6_tcxV"
      }
    },
    {
      "cell_type": "code",
      "source": [
        "scoring_df.shape"
      ],
      "metadata": {
        "colab": {
          "base_uri": "https://localhost:8080/"
        },
        "id": "VtQSpQu7yvTn",
        "outputId": "89333541-d0c7-4aa1-b16e-d42fb1ed87af"
      },
      "execution_count": null,
      "outputs": [
        {
          "output_type": "execute_result",
          "data": {
            "text/plain": [
              "(1578, 32)"
            ]
          },
          "metadata": {},
          "execution_count": 32
        }
      ]
    },
    {
      "cell_type": "code",
      "source": [
        "n = int(0.2*1578)\n",
        "expected_revenue_with_model = scoring_df.sort_values(by = \"predicted_probability\", ascending = False).loc[:n, [\"expected_revenue\"]].mean()\n",
        "expected_revenue_with_model"
      ],
      "metadata": {
        "colab": {
          "base_uri": "https://localhost:8080/"
        },
        "id": "RdaFZlxstc20",
        "outputId": "8ffaf030-c3f8-4f4f-95e7-4bbf21331163"
      },
      "execution_count": null,
      "outputs": [
        {
          "output_type": "execute_result",
          "data": {
            "text/plain": [
              "expected_revenue    106.339499\n",
              "dtype: float64"
            ]
          },
          "metadata": {},
          "execution_count": 33
        }
      ]
    },
    {
      "cell_type": "markdown",
      "source": [
        "Step 3f.)"
      ],
      "metadata": {
        "id": "N-6peXJTwTID"
      }
    },
    {
      "cell_type": "code",
      "source": [
        "difference = expected_revenue_with_model-expected_revenue_wo_model\n",
        "difference_3000 = difference * 3000\n",
        "difference_3000"
      ],
      "metadata": {
        "colab": {
          "base_uri": "https://localhost:8080/"
        },
        "id": "i4pE-jNtwTYL",
        "outputId": "4f9b1442-475b-4061-d787-7ec16b518f35"
      },
      "execution_count": null,
      "outputs": [
        {
          "output_type": "execute_result",
          "data": {
            "text/plain": [
              "expected_revenue    100716.381914\n",
              "dtype: float64"
            ]
          },
          "metadata": {},
          "execution_count": 34
        }
      ]
    },
    {
      "cell_type": "markdown",
      "source": [
        "##**Step 4:** Write-Up\n"
      ],
      "metadata": {
        "id": "h1VK_WdHt3ih"
      }
    },
    {
      "cell_type": "markdown",
      "source": [
        "Instead of randomly choosing customers to send promotional materials to, the startup can target customers using our models. Our models predicts with around 98% accuracy on whether someone will buy a product and how much they will spend, so it is a big improvement from random choice. With the company's current budget of 30 thousand per month, they target 3,000 prospective customers but only reach 450. With the model's accuracy, they can increase their reach to 2,958 customers that are predicted to make a purchase. This reduces the Customer Acquisition Cost (detailed in the business problem) from 67 dollars per person to $10.14."
      ],
      "metadata": {
        "id": "W_Snt1BJ5Z53"
      }
    },
    {
      "cell_type": "markdown",
      "source": [
        "We conclude that our models increases the monthly expected revenue per targeted user by 30 - 40 dollars compared to random targeting. (This amount varies due to the changing random estimate of the revenue generated per customer without using the model). That means for 3,000 customers, the startup will increase revenue per month by 90 to 120 thousand dollars. Considering costs then, the company will increase its current profits between 60 to 90 thousand dollars. Running these models will be helpful for the company's future marketing plans since they will know what customers to target in order to increase expected revenue while reducing costs."
      ],
      "metadata": {
        "id": "uESAt5-npCEc"
      }
    }
  ]
}